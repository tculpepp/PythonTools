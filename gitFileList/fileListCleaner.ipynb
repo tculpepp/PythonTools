{
 "cells": [
  {
   "cell_type": "code",
   "execution_count": null,
   "metadata": {},
   "outputs": [],
   "source": [
    "import pandas as pd\n",
    "from git import *\n",
    "# import subprocess\n",
    "# import io"
   ]
  },
  {
   "cell_type": "code",
   "execution_count": null,
   "metadata": {},
   "outputs": [],
   "source": [
    "swarmDir = \"/Users/tculpepp/Documents/repos/TUI-Course-Work/CSC424\"\n",
    "vprsDir = \"/Users/tculpepp/Documents/repos/TUI-Course-Work/CSC424\"\n",
    "swarmList = Git(swarmDir).ls_files()\n",
    "vprsList = Git(vprsDir).ls_files()\n",
    "swarmDF = pd.read_csv(io.StringIO(swarmList), sep=\"/n\", names=['component'], engine='python')\n",
    "vprsDF = pd.read_csv(io.StringIO(vprsList), sep=\"/n\", names=['component'], engine='python')\n",
    "swarmDF['project'] = 'swarm'\n",
    "vprsDF['project'] = 'vprs'\n",
    "df = pd.concat([swarmDF, vprsDF])\n",
    "# df = pd.concat([pd.read_csv(io.StringIO(swarmList), sep=\"/n\", engine='python'), pd.read_csv(io.StringIO(vprsList), sep=\"/n\", engine='python')])"
   ]
  },
  {
   "cell_type": "code",
   "execution_count": null,
   "metadata": {},
   "outputs": [],
   "source": [
    "swarmDF.head()"
   ]
  },
  {
   "cell_type": "code",
   "execution_count": null,
   "metadata": {},
   "outputs": [],
   "source": [
    "dfNoDupes = df.drop_duplicates()\n",
    "dfNoDupes"
   ]
  },
  {
   "cell_type": "code",
   "execution_count": null,
   "metadata": {},
   "outputs": [],
   "source": [
    "dfNoDupes = df.drop_duplicates(subset='component')\n",
    "dfNoDupes"
   ]
  }
 ],
 "metadata": {
  "kernelspec": {
   "display_name": ".venv",
   "language": "python",
   "name": "python3"
  },
  "language_info": {
   "codemirror_mode": {
    "name": "ipython",
    "version": 3
   },
   "file_extension": ".py",
   "mimetype": "text/x-python",
   "name": "python",
   "nbconvert_exporter": "python",
   "pygments_lexer": "ipython3",
   "version": "3.11.2"
  },
  "orig_nbformat": 4
 },
 "nbformat": 4,
 "nbformat_minor": 2
}
