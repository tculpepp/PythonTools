{
 "cells": [
  {
   "cell_type": "code",
   "execution_count": 1,
   "metadata": {},
   "outputs": [],
   "source": [
    "import os\n",
    "import google_auth_oauthlib.flow\n",
    "import googleapiclient.discovery\n",
    "import googleapiclient.errors\n",
    "from bs4 import BeautifulSoup"
   ]
  },
  {
   "cell_type": "markdown",
   "metadata": {},
   "source": [
    "# The next cell scrapes al the video ID's from an input file (html)"
   ]
  },
  {
   "cell_type": "code",
   "execution_count": 2,
   "metadata": {},
   "outputs": [],
   "source": [
    "def scrape_video_ids(source_file_path):\n",
    "    with open(source_file_path) as source:\n",
    "        soup = BeautifulSoup(source, 'html.parser')\n",
    "    extracted_id_list = []\n",
    "    for link in soup.find_all(\"a\"):\n",
    "        try:\n",
    "            href = link.get('href')\n",
    "            if href.startswith('https://www.youtube.com'):\n",
    "                # print(href)\n",
    "                extracted_id_list.append(href.split('?v=')[1])\n",
    "        except:\n",
    "            pass\n",
    "    return extracted_id_list"
   ]
  },
  {
   "cell_type": "markdown",
   "metadata": {},
   "source": [
    "# The Next cell contains all the functions to authenticate with youtube and interact with the playlist"
   ]
  },
  {
   "cell_type": "code",
   "execution_count": 3,
   "metadata": {},
   "outputs": [],
   "source": [
    "scopes = [\"https://www.googleapis.com/auth/youtube.force-ssl\"]\n",
    "\n",
    "def login():\n",
    "    # Disable OAuthlib's HTTPS verification when running locally.\n",
    "    # *DO NOT* leave this option enabled in production.\n",
    "    os.environ[\"OAUTHLIB_INSECURE_TRANSPORT\"] = \"1\"\n",
    "\n",
    "    api_service_name = \"youtube\"\n",
    "    api_version = \"v3\"\n",
    "    client_secrets_file = \"client_secret_TUIYouTube.json\"\n",
    "\n",
    "    # Get credentials and create an API client\n",
    "    flow = google_auth_oauthlib.flow.InstalledAppFlow.from_client_secrets_file(\n",
    "        client_secrets_file, scopes)\n",
    "    credentials = flow.run_console()\n",
    "    youtube = googleapiclient.discovery.build(\n",
    "        api_service_name, api_version, credentials=credentials)\n",
    "    return youtube\n",
    "\n",
    "\n",
    "def create_playlist(youtube, playlist_title):\n",
    "  request = youtube.playlists().insert(\n",
    "      part=\"snippet,status\",\n",
    "      body={\n",
    "        \"snippet\": {\n",
    "          \"title\": playlist_title,\n",
    "          \"defaultLanguage\": \"en\"\n",
    "        },\n",
    "        \"status\": {\n",
    "          \"privacyStatus\": \"public\"\n",
    "        }\n",
    "      }\n",
    "  )\n",
    "  response = request.execute()\n",
    "\n",
    "  print(\"Playlist Created: \"+response['snippet']['title'])\n",
    "  return response\n",
    "\n",
    "def add_list_items(youtube, video_list):\n",
    "  for video_id in video_list:\n",
    "    request = youtube.playlistItems().insert(\n",
    "      part=\"snippet\",\n",
    "      body={\n",
    "        \"snippet\": {\n",
    "          \"playlistId\": json_data['id'],\n",
    "          \"resourceId\": {\n",
    "            \"kind\": \"youtube#video\",\n",
    "            \"videoId\": video_id\n",
    "          }\n",
    "        }\n",
    "      }\n",
    "    )\n",
    "    response = request.execute()\n",
    "\n",
    "    print(\"Video Added: \"+response['snippet']['title'])"
   ]
  },
  {
   "cell_type": "code",
   "execution_count": 4,
   "metadata": {},
   "outputs": [
    {
     "name": "stdout",
     "output_type": "stream",
     "text": [
      "Please visit this URL to authorize this application: https://accounts.google.com/o/oauth2/auth?response_type=code&client_id=1013734662046-24ejn6mn9pjepub3mvl3r9kurtuvqdvk.apps.googleusercontent.com&redirect_uri=urn%3Aietf%3Awg%3Aoauth%3A2.0%3Aoob&scope=https%3A%2F%2Fwww.googleapis.com%2Fauth%2Fyoutube.force-ssl&state=OXuEwDnmknUmfCYl4CcF1eGF0kGs1r&prompt=consent&access_type=offline\n",
      "Playlist Created: CSC330 Mod 1\n",
      "Video Added: Computer Parts Explained - Part 1:  Processors\n",
      "Video Added: Computer Parts Explained - Part 2:  Motherboards\n",
      "Video Added: Computer Parts Explained - Part 3: Graphics Cards\n",
      "Video Added: Computer Parts Explained - Part 4: RAM Memory\n",
      "Video Added: Computer Parts Explained - Part 5: Hard Drives\n",
      "Video Added: Computer Parts Explained - Part 6: Computer Cases\n",
      "Video Added: Computer Parts Explained - Part 7: PC Cooling\n",
      "Video Added: Computer Parts Explained - Part 8: Power Supplies\n",
      "Video Added: Computer Parts Explained - Part 9: Sound Cards\n",
      "Video Added: Computer Parts Explained - Part 10: Network Cards\n",
      "Video Added: 03 Intro to Computer Architecture\n",
      "Video Added: Parallel Computing Explained In 3 Minutes\n"
     ]
    }
   ],
   "source": [
    "source_file = 'tui/CSC330-Reference/CSC330/Modules/Module1/Mod1Background.html'\n",
    "video_id_list = scrape_video_ids(source_file)\n",
    "\n",
    "login_data = login()\n",
    "json_data = create_playlist(login_data, 'CSC330 Mod 1')\n",
    "add_list_items(login_data, video_id_list)"
   ]
  }
 ],
 "metadata": {
  "kernelspec": {
   "display_name": "Python 3.9.10 64-bit",
   "language": "python",
   "name": "python3"
  },
  "language_info": {
   "codemirror_mode": {
    "name": "ipython",
    "version": 3
   },
   "file_extension": ".py",
   "mimetype": "text/x-python",
   "name": "python",
   "nbconvert_exporter": "python",
   "pygments_lexer": "ipython3",
   "version": "3.9.10"
  },
  "orig_nbformat": 4,
  "vscode": {
   "interpreter": {
    "hash": "b0fa6594d8f4cbf19f97940f81e996739fb7646882a419484c72d19e05852a7e"
   }
  }
 },
 "nbformat": 4,
 "nbformat_minor": 2
}
